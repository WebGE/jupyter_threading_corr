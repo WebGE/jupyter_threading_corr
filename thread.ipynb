{
 "cells": [
  {
   "cell_type": "markdown",
   "metadata": {},
   "source": [
    "## Programmation concurente - <span style=\"color:blue;\">CORRECTION</span>"
   ]
  },
  {
   "cell_type": "markdown",
   "metadata": {},
   "source": [
    "**Ressources** : <button><a href=\"https://webge.fr/dokuwiki/doku.php?id=python:accueilpython\" target=\"_blank\">Wiki Python sur WebGE></a></button> <button><a href=\"https://realpython.com/python-logging/\" target=\"_blank\">Logging in Python</a></button> <button><a href=\"https://realpython.com/intro-to-python-threading/\" target=\"_blank\">An Intro to Threading in Python</a></button>"
   ]
  },
  {
   "cell_type": "markdown",
   "metadata": {},
   "source": [
    "### Sommaire\n",
    "<ol>\n",
    "    <li>Introduction\n",
    "        <ol>\n",
    "            <li>Les processus</li>\n",
    "            <li>Les threads</li>\n",
    "            <li>Quelle est la différence entre un Thread et un Processus ?</li>\n",
    "        </ol>\n",
    "    </li>\n",
    "    <li>Illustration de l'ordre d'exécution de threads</li>\n",
    "    <li>Ressource partagée</li>\n",
    "        <ol>\n",
    "            <li>Problème de concurrence</li>\n",
    "            <li>Section critique</li>\n",
    "        </ol>\n",
    "    <li>Interblocage</li>\n",
    "    <li>Synthèse</li>\n",
    "    <li>A retenir</li>\n",
    "</ol>"
   ]
  },
  {
   "cell_type": "markdown",
   "metadata": {},
   "source": [
    "### 1. Introduction\n",
    "#### 1.a Les processus\n",
    "<em>Grâce à leur système d'exploitation **multitâche**, les ordinateurs exécutent plusieurs programmes de façon **concurrente**. L'exécution d'un programme s'appelle un **processus**. C'est le système d'exploitation, et en particulier l'**ordonnanceur** (une des fonctionnalités du **noyau**), qui détermine quel processus s'exécute à un instant donné. Le fait pour un processus d'être interrompu s'appelle une **commutation de contexte**. Plusieurs processus s'exécutant de façon concurrente peuvent s'**interbloquer** s'ils attendent de pouvoir accéder à un même ensemble de **ressources en accès exclusif**. </em><br>\n",
    "<div style=\"text-align:center\"><img src=\"img/se.png\"></div> <br>\n",
    "\n",
    "#### 1.b Les threads\n",
    "<em>Les **threads** ou processus légers sont des \"sous-processus\", démarrés par un processus et s'exécutant de manière concurrente avec le reste du programme. L'accès à des ressources par plusieurs threads peut être protégé par des **verrous**. Une portion de code comprise entre l'acquisition et le relâchement d'un verrou s'appelle une **section critique**. <br>\n",
    "Le module threading de la bibliothèque standard Python permet de démarrer des threads.</em><br>\n",
    "\n",
    "#### 1.c Quelle est la différence entre un Thread et un Processus ?\n",
    "<em>Les threads (du même processus) s'exécutent dans un espace mémoire partagé, tandis que les processus s'exécutent dans des espaces mémoire différents.</em>\n",
    "<div style=\"text-align:center\"><img src=\"img/threads.png\"></div> "
   ]
  },
  {
   "cell_type": "markdown",
   "metadata": {},
   "source": [
    "### Objectifs\n",
    "> **Illustrer l'ordre d'exécution de threads, les problèmes de concurrence et d'interblocage**. "
   ]
  },
  {
   "cell_type": "markdown",
   "metadata": {},
   "source": [
    "### 2. Illustration de l'ordre d'exécution de threads\n",
    "<em>Dans le code ci-dessous, le programme principal crée quatre threads <span class=\"code\"><strong>th</strong></span> à l'aide de l'instruction <span style=\"font-family:Consolas;font-weight:bold;font-style:normal\">threading.Thread(target=hello, arg=[n])</span>. Lorsque l'on crée un thread, on lui transmet une fonction et la liste des arguments de cette fonction. La méthode **start()** lance l'exécution du thread en tâche de fond. Cette méthode rend la main et le programme principal continue de s'exécuter de façon concurrente au(x) thread(s) démarré(s). Une fois la boucle <strong>for</strong> exécutée, le programme comporte cinq *threads* : les quatre démarrés par start() plus celui associé au programme principal. Un compteur <strong>cmpt</strong> est créé dans chaque thread pour illustrer leur ordre d'exécution.</em>\n",
    "\n",
    "<strong>Note</strong> : la bibliothèque <a href=\"https://docs.python.org/fr/3/howto/logging.html\" target=\"_blank\"><b>logging</b></a> est dédiée à la journalisation."
   ]
  },
  {
   "cell_type": "code",
   "execution_count": null,
   "metadata": {},
   "outputs": [],
   "source": [
    "# A TESTER\n",
    "# Programmation concurente - Illustration de l'ordre d'exécution de threads \n",
    "import threading\n",
    "import logging # Cette bibliothèque est dédiée à la journalisation\n",
    "import time\n",
    "\n",
    "# Fonction associée aux threads 0 à 3\n",
    "def hello(num):\n",
    "    logging.info(f\"Thread {num}: démarrage\")\n",
    "    for i in range(5):\n",
    "        logging.info(f\"Thread {num} : cmpt{num}={i}\")\n",
    "        time.sleep(0.5) # Simulation d'un programme plus long\n",
    "    logging.info(f\"Thread {num}: terminé\")\n",
    "\n",
    "# Programme principal\n",
    "# Formatage des informations affichées lors du déroulement du programme\n",
    "format = \"%(asctime)s: %(message)s\"\n",
    "logging.basicConfig(format=format, level=logging.INFO, # filename='thread.log', filemode='a',\n",
    "                        datefmt=\"%H:%M:%S\", encoding='utf-8')\n",
    "for numth in range(4):                                # Création des threads 0 à 3\n",
    "    th = threading.Thread(target=hello, args=[numth]) # l'argument de type target est une fonction et l'argument \n",
    "                                                      # args est un tableau d'arguments passés à la fonction.\n",
    "                                                      # Ici, on passe le numéro numth du thread th à des fins d'affichage.\n",
    "    logging.info(f\"PPrinc : avant de lancer le Thread {numth}\")\n",
    "    th.start()                                                                                          "
   ]
  },
  {
   "cell_type": "markdown",
   "metadata": {},
   "source": [
    "> **Activité 1 <br>\n",
    "> Exécutez** plusieurs fois le code ci-dessus. Que peut-on dire de l'ordre d'exécution des threads ?"
   ]
  },
  {
   "cell_type": "markdown",
   "metadata": {},
   "source": [
    "<p style=\"color:blue; font-weight:bold\">CORRECTION Activité 1</p>\n",
    "<ul style=\"color:blue;\">\n",
    "    <li>Les threads alternent leur exécution au gré des commutations de contexte.</li>\n",
    "    <li>Deux exécutions successives peuvent donner des affichages différents.</li>\n",
    "    <li>Les threads ne s'arrêtent pas obligatoirement dans l'ordre dans lequel ils ont été démarrés.</li>\n",
    "</ul>"
   ]
  },
  {
   "cell_type": "markdown",
   "metadata": {},
   "source": [
    "<table><tr><td style=\"color:red; font-size:14px\"><strong>REMARQUE</strong> : l'ordre dans lequel sont démarrés les threads ne donne aucune indication sur l'ordre dans lequel ils peuvent se terminer.</td></tr></table>"
   ]
  },
  {
   "cell_type": "markdown",
   "metadata": {},
   "source": [
    "### 3. Ressource partagée\n",
    "#### 3.A Problème de concurence\n",
    "<em>Dans le programme ci-dessous, la variable globale **COMPTEUR** représente une **ressource partagée** par plusieurs threads. Comme hello dans le programme précédent, la fonction **incrc** s'exécute dans des threads.</em>"
   ]
  },
  {
   "cell_type": "code",
   "execution_count": null,
   "metadata": {},
   "outputs": [],
   "source": [
    "# A TESTER\n",
    "# Programmation concurente - Compteur partagé\n",
    "# Illustration du problème de concurrence v1\n",
    "import threading\n",
    "import logging\n",
    "import time\n",
    "\n",
    "COMPTEUR = 0 # Ressource partagée (variable globale)\n",
    "\n",
    "# Fonction associée aux threads 0 à 3\n",
    "def incrc(n):\n",
    "    global COMPTEUR\n",
    "    for _ in range(10):\n",
    "        v = COMPTEUR\n",
    "        logging.info(f\"Thread {n} - cpt={COMPTEUR}\")\n",
    "        COMPTEUR = v + 1\n",
    "\n",
    "# Programme principal\n",
    "format = \"%(asctime)s: %(message)s\"\n",
    "logging.basicConfig(format=format, level=logging.INFO,\n",
    "                        datefmt=\"%H:%M:%S\", encoding='utf-8')\n",
    "th=[] # tableau de threads\n",
    "for n in range(4):\n",
    "    t = threading.Thread(target=incrc, args=[n])\n",
    "    t.start()\n",
    "    th.append(t)\n",
    "\n",
    "for t in th: # Permet d'attendre que tous les threads soient terminés avant de poursuivre\n",
    "    t.join() # dans le programme principal\n",
    "\n",
    "logging.info(f\"Valeur finale = {COMPTEUR}\") # Cette ligne est exécutée lorsque tous les threads sont terminés"
   ]
  },
  {
   "cell_type": "markdown",
   "metadata": {},
   "source": [
    "> **Activité 2. Analyse et tests** du programme ci-dessus. <br>\n",
    "> 1. Que fait la fonction incrc ? \n",
    "> 2. Quelle doit être la valeur de la variable globale COMPTEUR à la fin du programme ?\n",
    ">\n",
    "> Testez le programme plusieurs fois. \n",
    ">\n",
    "> 3. A la fin du programme, la valeur de la variable globale COMPTEUR est-elle toujours celle supposée ? Pourquoi ?"
   ]
  },
  {
   "cell_type": "markdown",
   "metadata": {},
   "source": [
    "<p style=\"color:blue; font-weight:bold\">CORRECTION Activité 2</p>\n",
    "<ul style=\"color:blue;\">\n",
    "    <li>1. La fonction incrc() exécute 10 itérations d'une boucle qui incrémente la variable COMPTEUR.</li>\n",
    "    <li>2. A la fin du programme, la variable COMPTEUR devrait être égale à 40.</li>\n",
    "    <li>3. Non, 10 tests => COMPTEUR =/= 40 car la section critique n'est pas protégée par un mutex.</li>\n",
    "</ul>"
   ]
  },
  {
   "cell_type": "markdown",
   "metadata": {},
   "source": [
    "#### 3.B Section critique\n",
    "<em>Pour corriger le problème identifié lors de l'exécution du code précédent, il faut rendre <strong>EXCLUSIF</strong> l'accès à la variable globale <strong>COMPTEUR</strong>. On peut pour cela utiliser un verrou. Un <strong>verrou</strong> est un objet que l'on essaye d'acquérir. Si un thread est le premier à en faire la demande, il l'acquiert. Il peut le rendre à tout moment. Si en revanche un autre thread le détient alors tous les threads qui tentent d'y accéder sont bloqués jusqu'à ce qu'il soit libéré. En Python, on construit un verrou avec la méthode <strong>Lock()</strong> du <strong>module threading</strong>. On peut alors tenter de l'acquérir avec la méthode <strong>acquire()</strong> et le rendre avec la méthode <strong>release()</strong>.</em>"
   ]
  },
  {
   "cell_type": "markdown",
   "metadata": {},
   "source": [
    "<table><tr><td style=\"color:blue; font-size:14px\"><strong>NOTE</strong> : Une portion de code protégée par un verrou s'appelle une <strong>SECTION CRITIQUE</strong>.</td></tr></table>"
   ]
  },
  {
   "cell_type": "code",
   "execution_count": null,
   "metadata": {},
   "outputs": [],
   "source": [
    "# CORRECTION\n",
    "# Programmation concurente - Compteur partagé\n",
    "# Illustration du problème de concurrence v1\n",
    "import threading\n",
    "import logging\n",
    "import time\n",
    "\n",
    "COMPTEUR = 0 # Ressource partagée\n",
    "verrou = threading.Lock() # construction du verrou\n",
    "\n",
    "# Fonction associée aux threads 0 à 3\n",
    "def incrc(n):\n",
    "    global COMPTEUR\n",
    "    for _ in range(10):\n",
    "        verrou.acquire() # Acquisition du verrou\n",
    "        v = COMPTEUR\n",
    "        logging.info(f\"Thread {n} - cpt={COMPTEUR}\")\n",
    "        COMPTEUR = v + 1\n",
    "        verrou.release() # Relâchement du verrou\n",
    "\n",
    "# Programme principal\n",
    "format = \"%(asctime)s: %(message)s\"\n",
    "logging.basicConfig(format=format, level=logging.INFO,\n",
    "                        datefmt=\"%H:%M:%S\", encoding='utf-8')\n",
    "th=[] # tableau de threads\n",
    "for n in range(4):\n",
    "    t = threading.Thread(target=incrc, args=[n])\n",
    "    t.start()\n",
    "    th.append(t)\n",
    "\n",
    "for t in th: # Permet d'attendre que tous les threads soient terminés avant de poursuivre\n",
    "    t.join() # dans le programme principal\n",
    "\n",
    "logging.info(f\"Valeur finale = {COMPTEUR}\") # Cette ligne est exécutée lorsque tous les threads sont terminés"
   ]
  },
  {
   "cell_type": "markdown",
   "metadata": {},
   "source": [
    "> **Activité 3**<br>\n",
    "> Un verrou est créé dans le programme ci-dessus par : <span style=\"font-family:Consolas;font-weight:bold;font-style:normal\">verrou = threading.Lock()</span> <br>\n",
    "> L'objet verrou possède deux méthodes : **acquire()** et **release()**  <br>\n",
    "> <br>\n",
    "> 1. Placez le verrou dans le code ci-dessus pour protéger la section critique. <br>\n",
    "> 2. Testez le programme avec différentes bornes pour la boucle for. Que remarquez-vous ? <br>\n",
    "> 3. Expliquez pourquoi on a corrigé le problème de concurrence entre les threads t0, t1, t2 et t3."
   ]
  },
  {
   "cell_type": "markdown",
   "metadata": {},
   "source": [
    "<p style=\"color:blue; font-weight:bold\">CORRECTION Activité 3</p>\n",
    "<ul style=\"color:blue;\">\n",
    "    <li>1. verrou.acquire et verrou.release() sont placés dans le code ci-dessus.</li>\n",
    "    <li>2. Le résultat est toujours celui attendu car la commutation de contexte est seulement possible à la sortie de la section critique.</li>\n",
    "    <li>3. Un thread ne peut pas incrémenter le compteur s'il ne dispose pas du verrou. Un seul thread peut disposer du verrou. Pour qu'un thread se termine, il doit avoir incrémenté le compteur n fois. </li>\n",
    "</ul>"
   ]
  },
  {
   "cell_type": "markdown",
   "metadata": {},
   "source": [
    "### 4. Interblocage\n",
    "L'interblocage se produit lorsque des processus concurrents **s'attendent mutuellement**. L'utilisation de plusieurs verrous rend le risque d'**interblocages** possible.<br>\n",
    "Dans l'exemple ci-dessous **P1** et **P2** sont **interbloqués** car : <br>\n",
    "- Le processus **P1** dispose de la ressource **D1** et attend la ressource **D2**. <br>\n",
    "- Le processus **P2** dispose de la ressource **D2** et attend la ressource **D1**. <br>\n",
    "\n",
    "<div style=\"text-align:center\"><img src=\"img/interblocage.png\"></div>"
   ]
  },
  {
   "cell_type": "raw",
   "metadata": {},
   "source": [
    "# A ANALYSER\n",
    "# La fonction P1 essaye d'acquérir d'abord verrou1 puis verrou2, alors que P2 essaye de \n",
    "# les acquérir dans l'ordre inverse.\n",
    "# Si on exécute ce programme, il a de \"grandes chances\" de se retrouver bloqué.\n",
    "import threading\n",
    "import logging\n",
    "\n",
    "verrou1 = threading.Lock()\n",
    "verrou2 = threading.Lock()\n",
    "\n",
    "def p1():\n",
    "    verrou1.acquire()\n",
    "    logging.info(\"P1 a acquit D1\")  \n",
    "    verrou2.acquire()\n",
    "    logging.info(\"P1 a acquit D2\")\n",
    "    verrou2.release()\n",
    "    logging.info(\"P1 a rendu D2\")\n",
    "    verrou1.release()\n",
    "    logging.info(\"P1 a rendu D1\")\n",
    "    \n",
    "    \n",
    "def p2():\n",
    "    verrou2.acquire()\n",
    "    logging.info(\"P2 a acquit D2\")  \n",
    "    verrou1.acquire()\n",
    "    logging.info(\"P2 a acquit D1\")\n",
    "    verrou1.release()\n",
    "    logging.info(\"P2 a rendu D1\")\n",
    "    verrou2.release()\n",
    "    logging.info(\"P2 a rendu D2\")\n",
    "\n",
    "# Programme principal\n",
    "format = \"%(asctime)s: %(message)s\"\n",
    "logging.basicConfig(format=format, level=logging.INFO,\n",
    "                        datefmt=\"%H:%M:%S\", encoding='utf-8')\n",
    "\n",
    "t1 = threading.Thread(target=p1, args=[])\n",
    "t2 = threading.Thread(target=p2, args=[])\n",
    "t1.start()\n",
    "t2.start()\n"
   ]
  },
  {
   "cell_type": "markdown",
   "metadata": {},
   "source": [
    "> **Activité 4a. Analyse** du programme ci-dessus <br>\n",
    "Quel pourrait être le texte affiché par le programme : <br>\n",
    "a) S'il ne se bloque pas ? <br>\n",
    "b) S'il se bloque ?"
   ]
  },
  {
   "cell_type": "markdown",
   "metadata": {},
   "source": [
    "<p style=\"color:blue; font-weight:bold\">CORRECTION 4a</p>\n",
    "<p style=\"color:blue;\">a) Pas d'interblocage (exemple)</p>\n",
    "<ul style=\"color:blue;\">\n",
    "    <li>P1 a acquit D1</li>   \n",
    "    <li>P1 a acquit D2</li> \n",
    "    <li>P1 a rendu D2</li> \n",
    "    <li>P2 a acquit D2</li> \n",
    "    <li>P1 a rendu D1</li> \n",
    "    <li>P2 a acquit D1</li>\n",
    "    <li>P2 a rendu D1</li>\n",
    "    <li>P2 a rendu D2</li>\n",
    "</ul>\n",
    "<p style=\"color:blue;\">b) Interblocage (1 seule solution)</p>\n",
    "<ul style=\"color:blue;\">\n",
    "    <li>P1 a acquit D1</li>   \n",
    "    <li>P2 a acquit D2</li> \n",
    "</ul>"
   ]
  },
  {
   "cell_type": "markdown",
   "metadata": {},
   "source": [
    "> **Activité 4b** <br>\n",
    "> **Exécutez** plusieurs fois le programme ci-dessous pour observer l'interblocage des threads P1 et P2."
   ]
  },
  {
   "cell_type": "code",
   "execution_count": null,
   "metadata": {},
   "outputs": [],
   "source": [
    "# CORRECTION de l'interblocage des threads P1 et P2\n",
    "import threading\n",
    "import logging\n",
    "import time\n",
    "\n",
    "verrou1 = threading.Lock()\n",
    "verrou2 = threading.Lock()\n",
    "\n",
    "def p1():\n",
    "    verrou1.acquire()\n",
    "    logging.info(\"P1 a acquit D1\") \n",
    "    verrou2.acquire()\n",
    "    logging.info(\"P1 a acquit D2\")\n",
    "    verrou2.release()\n",
    "    logging.info(\"P1 a rendu D2\")\n",
    "    verrou1.release()\n",
    "    logging.info(\"P1 a rendu D1\")\n",
    "    \n",
    "    \n",
    "def p2():\n",
    "    verrou1.acquire()\n",
    "    logging.info(\"P2 a acquit D1\")  \n",
    "    verrou2.acquire()\n",
    "    logging.info(\"P2 a acquit D2\")\n",
    "    verrou2.release()\n",
    "    logging.info(\"P2 a rendu D2\")\n",
    "    verrou1.release()\n",
    "    logging.info(\"P2 a rendu D1\")\n",
    "\n",
    "# Programme principal\n",
    "format = \"%(asctime)s: %(message)s\"\n",
    "logging.basicConfig(format=format, level=logging.INFO,\n",
    "                        datefmt=\"%H:%M:%S\", encoding='utf-8')\n",
    "\n",
    "t1 = threading.Thread(target=p1, args=[])\n",
    "t2 = threading.Thread(target=p2, args=[])\n",
    "t1.start()\n",
    "t2.start()\n"
   ]
  },
  {
   "cell_type": "markdown",
   "metadata": {},
   "source": [
    "> **Activité 4c** <br>\n",
    "> **Modifiez** le code pour supprimer** l'interblocage."
   ]
  },
  {
   "cell_type": "markdown",
   "metadata": {},
   "source": [
    "### 5. SYNTHESE"
   ]
  },
  {
   "cell_type": "markdown",
   "metadata": {},
   "source": [
    "> **Activité 5**<br>\n",
    "> En vous inspirant du programme du paragraphe 2, **écrivez** un programme qui crée et démarre **quatre** fonctions concurrentes affichant plusieurs fois un message de bienvenue personnalisé (maximum **dix** fois le message).<br>\n",
    ">\n",
    "> *Exemple de résultats attendus*<br>\n",
    "Bonjour, je suis le thread 0 et ceci est le message 1<br>\n",
    "... <br>\n",
    "Message de bienvenue du thread 1 qui transmet son message 3<br>\n",
    "... <br>"
   ]
  },
  {
   "cell_type": "code",
   "execution_count": null,
   "metadata": {},
   "outputs": [],
   "source": [
    "# Correction Activité 5\n",
    "# Programmation concurente - Messages différents dans chaque thread\n",
    "\n",
    "import threading\n",
    "import logging\n",
    "import time\n",
    "\n",
    "'''\n",
    "numth : numéro du thread\n",
    "msg : tableau contenant les messages à afficher\n",
    "nb : tableau contenant le nombre de messages que chaque thread doit produire\n",
    "'''\n",
    "\n",
    "# Fonction associée aux threads 0 à 3\n",
    "def hello(num,msg,nb):\n",
    "    for i in range(nb):\n",
    "        logging.info(f\"{msg} {i}\")\n",
    "    logging.info(f\"Thread {num}: terminé\")\n",
    "\n",
    "# Programme principal\n",
    "format = \"%(asctime)s: %(message)s\"\n",
    "logging.basicConfig(format=format, level=logging.INFO,\n",
    "                        datefmt=\"%H:%M:%S\", encoding='utf-8')\n",
    "nb=[10,7,5,8]\n",
    "msg=[\"Bonjour, je suis le thread 0 et ceci est le message \",\"Message de bienvenue du thread 1 qui transmet le message \",\n",
    "     \"Salut, le thread 2 vous envoie le message \", \"Hé, le thread 3 aussi envoie son message \"]\n",
    "\n",
    "for num in range(len(nb)):\n",
    "    t = threading.Thread(target=hello, args=[num,msg[num], nb[num]]) \n",
    "    t.start()"
   ]
  },
  {
   "cell_type": "markdown",
   "metadata": {},
   "source": [
    "> **Activité 6a** <br>\n",
    "> On considère un petit système embarqué : un **microcontrôleur** relié à trois **LED A, B, C**. Une LED peut être éteinte ou éclairée et on peut choisir sa couleur. Trois programmes génèrent les signaux qui font clignoter les LED. Chaque programme contrôle une LED primaire et une LED secondaire. <br>\n",
    "> - Le programme P1 contrôle la LED A (primaire) et la LED B (secondaire) en vert.<br>\n",
    "> - Le programme P2 contrôle la LED  B (primaire) et la LED C (secondaire) en bleu.<br>\n",
    "> - Le programme P3 contrôle la LED  C (primaire) et la LED A (secondaire) en rouge.<br>\n",
    ">\n",
    "> Comme les LED ne doivent pas être éclairées dans deux couleurs simultanément, le système propose deux primitives **acquerirLED(nom)** et **rendreLED(nom)** qui permettent respectivement d'acquérir et de relâcher une LED. <br> **nom** prend la valeur primaire ou secondaire. <br> Si une LED est déjà acquise par un programme Pi alors acquerirLED(nom) dans un programme Pj bloque Pj (i différent de j).<br>\n",
    "> On suppose que chacun des trois programmes P1, P2, P3 effectue les **actions** suivantes en boucle :<br>\n",
    "> 1. acquérir la LED primaire\n",
    "> 2. acquérir la LED secondaire\n",
    "> 3. configurer les couleurs\n",
    "> 4. émettre des signaux\n",
    "> 5. rendre la LED secondaire \n",
    "> 6. rendre la LED primaire puis\n",
    "> recommencer en 1\n",
    ">\n",
    "> **Montrer** par un schéma qu'il existe un entrelacement des exécutions qui place **P1, P2 et P3 en interblocage**."
   ]
  },
  {
   "cell_type": "markdown",
   "metadata": {},
   "source": [
    "<p style=\"color:blue; font-weight:bold\">CORRECTION Activié 6a</p>\n",
    "<p>Le contexte peut être schématisé comme ci-dessous.</p>\n",
    "<div style=\"text-align:center\"><img src=\"img/processLed.png\" width=\"200px\"> <br></div>\n",
    "<span style=\"color:blue;\"> On considère l'enchaînement suivant :</span></br>\n",
    "<ul style=\"color:blue;\">\n",
    "    <li>P1 acquiert A (action 1) puis est interrompu.</li>\n",
    "    <li>P2 acquiert B (action 1) puis est interrompu.</li>\n",
    "    <li>P3 acquiert C (action 1) puis est interrompu.</li>\n",
    "    <li>P1 tente d'acquérir B, sa LED secondaire (action 2). Il est bloqué car B est tenue par P2</li>\n",
    "    <li>P2 tente d'acquérir C, (action 2). Il est bloqué car C est tenue par P3</li>\n",
    "    <li>P2 tente d'acquérir A, (action 2). Il est bloqué car A est tenue par P1</li>\n",
    "</ul>\n",
    "<span style=\"color:blue;\">\n",
    "On obtient la boucle A -> P1 -> B -> P2 -> C -> P3 -> A <br>\n",
    "A ce stade, les trois processus sont bloqués dans une attente circulaire d'une ressource tenue par un autre processus. Ils sont en <strong>interblocage</strong>. \n",
    "</span>"
   ]
  },
  {
   "cell_type": "markdown",
   "metadata": {},
   "source": [
    "> **Activité 6b** <br>\n",
    "Téléchargez, copiez et complétez le code situé ici : https://gist.github.com/WebGE/f24c17bb13f10b38eaf21725451e3754\n",
    ">\n",
    "> *Exemple de résultats attendus*<br>\n",
    "11:21:14: LedA=vert par P1 <br>\n",
    "11:21:14: LedB=vert par P1 <br>\n",
    "11:21:14: LedC=rouge par P3 <br>\n",
    "11:21:14: LedB relachée par P1 <br>\n",
    "11:21:14: LedB=bleu par P2 <br>\n",
    "11:21:14: LedA relachée par P1 <br>\n",
    "11:21:14: LedA=rouge par P3 <br>\n",
    "11:21:14: LedA relachée par P3 <br>\n",
    "11:21:14: LedA=vert par P1 <br>\n",
    "11:21:14: LedC relachée par P3 <br>\n",
    "11:21:14: LedC=bleu par P2 <br>\n",
    "11:21:14: LedC relachée par P2 <br>"
   ]
  },
  {
   "cell_type": "code",
   "execution_count": null,
   "metadata": {},
   "outputs": [],
   "source": [
    "# Correction 6b\n",
    "# MICROLED - Illustration de l'interblocage dans la commande des Leds\n",
    "\n",
    "import threading\n",
    "import logging\n",
    "\n",
    "VERROU_LED={}\n",
    "VERROU_LED['A']=threading.Lock()\n",
    "VERROU_LED['B']=threading.Lock()\n",
    "VERROU_LED['C']=threading.Lock()\n",
    "\n",
    "def acquerirLED(led):\n",
    "    VERROU_LED[led].acquire()\n",
    "\n",
    "def rendreLED(led):\n",
    "    VERROU_LED[led].release()\n",
    "    \n",
    "def prog(numproc,ledprim,ledsec,couleur):\n",
    "    while True:\n",
    "        acquerirLED(ledprim)\n",
    "        logging.info(f\"Led{ledprim}={couleur} par P{numproc}\")\n",
    "        acquerirLED(ledsec)\n",
    "        logging.info(f\"Led{ledsec}={couleur} par P{numproc}\")\n",
    "        rendreLED(ledsec)\n",
    "        logging.info(f\"Led{ledsec} relachée par P{numproc}\")\n",
    "        rendreLED(ledprim)\n",
    "        logging.info(f\"Led{ledprim} relachée par P{numproc}\")\n",
    "\n",
    "# Programme principal\n",
    "format = \"%(asctime)s: %(message)s\"\n",
    "logging.basicConfig(format=format, level=logging.INFO,\n",
    "                        datefmt=\"%H:%M:%S\", encoding='utf-8')\n",
    "\n",
    "p1 = threading.Thread(target=prog, args=[1,'A','B','vert'])\n",
    "p2 = threading.Thread(target=prog, args=[2,'B','C','bleu'])\n",
    "p3 = threading.Thread(target=prog, args=[3,'C','A','rouge'])\n",
    "\n",
    "p1.start();p2.start();p3.start();"
   ]
  },
  {
   "cell_type": "markdown",
   "metadata": {},
   "source": [
    "### 6. A retenir\n",
    "<em>\"Les systèmes d'exploitation multitâches sont la norme. Ils permettent d'exécuter de façon <strong>concurrente</strong> plusieurs programmes. L'exécution d'un programme s'appelle un <strong>processus</strong>. C'est le système d'exploitation et en particulier l'<strong>ordonnanceur</strong>, qui détermine quel processus s'exécute à un instant donné. Le fait pour un processus d'être interrompu s'appelle une <strong>commutation de contexte</strong>. Plusieurs processus s'exécutant de façon concurrente peuvent s'<strong>interbloquer</strong> s'ils attendent de pouvoir accéder à un même ensemble de <strong>ressources en accès exclusif</strong>. Les <strong>threads</strong> ou <strong>processus légers</strong> sont des \"sous-processus\" s'exécutant de manière concurrente. L'accès à des ressources par plusieurs threads peut être protégé par des <strong>verrous</strong>. Une portion de code comprise entre l'acquisition et le relâchement d'un verrou s'appelle une <strong>section critique</strong>\".</em> <br> Numérique et Sciences Informatiques - <span class=\"codepy\">ellipses</span>"
   ]
  },
  {
   "cell_type": "code",
   "execution_count": null,
   "metadata": {},
   "outputs": [],
   "source": []
  }
 ],
 "metadata": {
  "kernelspec": {
   "display_name": "Python 3 (ipykernel)",
   "language": "python",
   "name": "python3"
  },
  "language_info": {
   "codemirror_mode": {
    "name": "ipython",
    "version": 3
   },
   "file_extension": ".py",
   "mimetype": "text/x-python",
   "name": "python",
   "nbconvert_exporter": "python",
   "pygments_lexer": "ipython3",
   "version": "3.12.7"
  }
 },
 "nbformat": 4,
 "nbformat_minor": 4
}
